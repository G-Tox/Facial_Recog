{
 "cells": [
  {
   "cell_type": "code",
   "execution_count": 1,
   "metadata": {},
   "outputs": [],
   "source": [
    "import requests\n",
    "from bs4 import BeautifulSoup\n",
    "import pandas as pd\n",
    "import base64\n",
    "from PIL import Image\n",
    "from io import BytesIO\n",
    "import pandas as pd"
   ]
  },
  {
   "cell_type": "code",
   "execution_count": 2,
   "metadata": {},
   "outputs": [],
   "source": [
    "df = pd.DataFrame()"
   ]
  },
  {
   "cell_type": "code",
   "execution_count": null,
   "metadata": {},
   "outputs": [],
   "source": []
  },
  {
   "cell_type": "code",
   "execution_count": null,
   "metadata": {},
   "outputs": [],
   "source": []
  },
  {
   "cell_type": "code",
   "execution_count": null,
   "metadata": {
    "scrolled": true
   },
   "outputs": [
    {
     "name": "stdout",
     "output_type": "stream",
     "text": [
      "105\n"
     ]
    },
    {
     "name": "stderr",
     "output_type": "stream",
     "text": [
      "C:\\Users\\Inspira\\.conda\\envs\\scraping\\lib\\site-packages\\urllib3\\connectionpool.py:988: InsecureRequestWarning: Unverified HTTPS request is being made to host 'www.recompensas.pe'. Adding certificate verification is strongly advised. See: https://urllib3.readthedocs.io/en/latest/advanced-usage.html#ssl-warnings\n",
      "  InsecureRequestWarning,\n",
      "C:\\Users\\Inspira\\.conda\\envs\\scraping\\lib\\site-packages\\urllib3\\connectionpool.py:988: InsecureRequestWarning: Unverified HTTPS request is being made to host 'www.recompensas.pe'. Adding certificate verification is strongly advised. See: https://urllib3.readthedocs.io/en/latest/advanced-usage.html#ssl-warnings\n",
      "  InsecureRequestWarning,\n"
     ]
    },
    {
     "name": "stdout",
     "output_type": "stream",
     "text": [
      "106\n",
      "107\n"
     ]
    },
    {
     "name": "stderr",
     "output_type": "stream",
     "text": [
      "C:\\Users\\Inspira\\.conda\\envs\\scraping\\lib\\site-packages\\urllib3\\connectionpool.py:988: InsecureRequestWarning: Unverified HTTPS request is being made to host 'www.recompensas.pe'. Adding certificate verification is strongly advised. See: https://urllib3.readthedocs.io/en/latest/advanced-usage.html#ssl-warnings\n",
      "  InsecureRequestWarning,\n"
     ]
    },
    {
     "name": "stdout",
     "output_type": "stream",
     "text": [
      "108\n",
      "109\n"
     ]
    },
    {
     "name": "stderr",
     "output_type": "stream",
     "text": [
      "C:\\Users\\Inspira\\.conda\\envs\\scraping\\lib\\site-packages\\urllib3\\connectionpool.py:988: InsecureRequestWarning: Unverified HTTPS request is being made to host 'www.recompensas.pe'. Adding certificate verification is strongly advised. See: https://urllib3.readthedocs.io/en/latest/advanced-usage.html#ssl-warnings\n",
      "  InsecureRequestWarning,\n",
      "C:\\Users\\Inspira\\.conda\\envs\\scraping\\lib\\site-packages\\urllib3\\connectionpool.py:988: InsecureRequestWarning: Unverified HTTPS request is being made to host 'www.recompensas.pe'. Adding certificate verification is strongly advised. See: https://urllib3.readthedocs.io/en/latest/advanced-usage.html#ssl-warnings\n",
      "  InsecureRequestWarning,\n"
     ]
    },
    {
     "name": "stdout",
     "output_type": "stream",
     "text": [
      "110\n",
      "111\n"
     ]
    },
    {
     "name": "stderr",
     "output_type": "stream",
     "text": [
      "C:\\Users\\Inspira\\.conda\\envs\\scraping\\lib\\site-packages\\urllib3\\connectionpool.py:988: InsecureRequestWarning: Unverified HTTPS request is being made to host 'www.recompensas.pe'. Adding certificate verification is strongly advised. See: https://urllib3.readthedocs.io/en/latest/advanced-usage.html#ssl-warnings\n",
      "  InsecureRequestWarning,\n",
      "C:\\Users\\Inspira\\.conda\\envs\\scraping\\lib\\site-packages\\urllib3\\connectionpool.py:988: InsecureRequestWarning: Unverified HTTPS request is being made to host 'www.recompensas.pe'. Adding certificate verification is strongly advised. See: https://urllib3.readthedocs.io/en/latest/advanced-usage.html#ssl-warnings\n",
      "  InsecureRequestWarning,\n"
     ]
    },
    {
     "name": "stdout",
     "output_type": "stream",
     "text": [
      "112\n",
      "113\n"
     ]
    },
    {
     "name": "stderr",
     "output_type": "stream",
     "text": [
      "C:\\Users\\Inspira\\.conda\\envs\\scraping\\lib\\site-packages\\urllib3\\connectionpool.py:988: InsecureRequestWarning: Unverified HTTPS request is being made to host 'www.recompensas.pe'. Adding certificate verification is strongly advised. See: https://urllib3.readthedocs.io/en/latest/advanced-usage.html#ssl-warnings\n",
      "  InsecureRequestWarning,\n",
      "C:\\Users\\Inspira\\.conda\\envs\\scraping\\lib\\site-packages\\urllib3\\connectionpool.py:988: InsecureRequestWarning: Unverified HTTPS request is being made to host 'www.recompensas.pe'. Adding certificate verification is strongly advised. See: https://urllib3.readthedocs.io/en/latest/advanced-usage.html#ssl-warnings\n",
      "  InsecureRequestWarning,\n"
     ]
    },
    {
     "name": "stdout",
     "output_type": "stream",
     "text": [
      "114\n"
     ]
    },
    {
     "name": "stderr",
     "output_type": "stream",
     "text": [
      "C:\\Users\\Inspira\\.conda\\envs\\scraping\\lib\\site-packages\\urllib3\\connectionpool.py:988: InsecureRequestWarning: Unverified HTTPS request is being made to host 'www.recompensas.pe'. Adding certificate verification is strongly advised. See: https://urllib3.readthedocs.io/en/latest/advanced-usage.html#ssl-warnings\n",
      "  InsecureRequestWarning,\n",
      "C:\\Users\\Inspira\\.conda\\envs\\scraping\\lib\\site-packages\\urllib3\\connectionpool.py:988: InsecureRequestWarning: Unverified HTTPS request is being made to host 'www.recompensas.pe'. Adding certificate verification is strongly advised. See: https://urllib3.readthedocs.io/en/latest/advanced-usage.html#ssl-warnings\n",
      "  InsecureRequestWarning,\n"
     ]
    },
    {
     "name": "stdout",
     "output_type": "stream",
     "text": [
      "115\n",
      "116\n"
     ]
    },
    {
     "name": "stderr",
     "output_type": "stream",
     "text": [
      "C:\\Users\\Inspira\\.conda\\envs\\scraping\\lib\\site-packages\\urllib3\\connectionpool.py:988: InsecureRequestWarning: Unverified HTTPS request is being made to host 'www.recompensas.pe'. Adding certificate verification is strongly advised. See: https://urllib3.readthedocs.io/en/latest/advanced-usage.html#ssl-warnings\n",
      "  InsecureRequestWarning,\n"
     ]
    },
    {
     "name": "stdout",
     "output_type": "stream",
     "text": [
      "117\n"
     ]
    },
    {
     "name": "stderr",
     "output_type": "stream",
     "text": [
      "C:\\Users\\Inspira\\.conda\\envs\\scraping\\lib\\site-packages\\urllib3\\connectionpool.py:988: InsecureRequestWarning: Unverified HTTPS request is being made to host 'www.recompensas.pe'. Adding certificate verification is strongly advised. See: https://urllib3.readthedocs.io/en/latest/advanced-usage.html#ssl-warnings\n",
      "  InsecureRequestWarning,\n"
     ]
    },
    {
     "name": "stdout",
     "output_type": "stream",
     "text": [
      "118\n",
      "119\n"
     ]
    },
    {
     "name": "stderr",
     "output_type": "stream",
     "text": [
      "C:\\Users\\Inspira\\.conda\\envs\\scraping\\lib\\site-packages\\urllib3\\connectionpool.py:988: InsecureRequestWarning: Unverified HTTPS request is being made to host 'www.recompensas.pe'. Adding certificate verification is strongly advised. See: https://urllib3.readthedocs.io/en/latest/advanced-usage.html#ssl-warnings\n",
      "  InsecureRequestWarning,\n",
      "C:\\Users\\Inspira\\.conda\\envs\\scraping\\lib\\site-packages\\urllib3\\connectionpool.py:988: InsecureRequestWarning: Unverified HTTPS request is being made to host 'www.recompensas.pe'. Adding certificate verification is strongly advised. See: https://urllib3.readthedocs.io/en/latest/advanced-usage.html#ssl-warnings\n",
      "  InsecureRequestWarning,\n"
     ]
    },
    {
     "name": "stdout",
     "output_type": "stream",
     "text": [
      "120\n",
      "121\n"
     ]
    },
    {
     "name": "stderr",
     "output_type": "stream",
     "text": [
      "C:\\Users\\Inspira\\.conda\\envs\\scraping\\lib\\site-packages\\urllib3\\connectionpool.py:988: InsecureRequestWarning: Unverified HTTPS request is being made to host 'www.recompensas.pe'. Adding certificate verification is strongly advised. See: https://urllib3.readthedocs.io/en/latest/advanced-usage.html#ssl-warnings\n",
      "  InsecureRequestWarning,\n",
      "C:\\Users\\Inspira\\.conda\\envs\\scraping\\lib\\site-packages\\urllib3\\connectionpool.py:988: InsecureRequestWarning: Unverified HTTPS request is being made to host 'www.recompensas.pe'. Adding certificate verification is strongly advised. See: https://urllib3.readthedocs.io/en/latest/advanced-usage.html#ssl-warnings\n",
      "  InsecureRequestWarning,\n"
     ]
    },
    {
     "name": "stdout",
     "output_type": "stream",
     "text": [
      "122\n",
      "123\n"
     ]
    },
    {
     "name": "stderr",
     "output_type": "stream",
     "text": [
      "C:\\Users\\Inspira\\.conda\\envs\\scraping\\lib\\site-packages\\urllib3\\connectionpool.py:988: InsecureRequestWarning: Unverified HTTPS request is being made to host 'www.recompensas.pe'. Adding certificate verification is strongly advised. See: https://urllib3.readthedocs.io/en/latest/advanced-usage.html#ssl-warnings\n",
      "  InsecureRequestWarning,\n",
      "C:\\Users\\Inspira\\.conda\\envs\\scraping\\lib\\site-packages\\urllib3\\connectionpool.py:988: InsecureRequestWarning: Unverified HTTPS request is being made to host 'www.recompensas.pe'. Adding certificate verification is strongly advised. See: https://urllib3.readthedocs.io/en/latest/advanced-usage.html#ssl-warnings\n",
      "  InsecureRequestWarning,\n",
      "C:\\Users\\Inspira\\.conda\\envs\\scraping\\lib\\site-packages\\urllib3\\connectionpool.py:988: InsecureRequestWarning: Unverified HTTPS request is being made to host 'www.recompensas.pe'. Adding certificate verification is strongly advised. See: https://urllib3.readthedocs.io/en/latest/advanced-usage.html#ssl-warnings\n",
      "  InsecureRequestWarning,\n"
     ]
    },
    {
     "name": "stdout",
     "output_type": "stream",
     "text": [
      "124\n",
      "125\n"
     ]
    },
    {
     "name": "stderr",
     "output_type": "stream",
     "text": [
      "C:\\Users\\Inspira\\.conda\\envs\\scraping\\lib\\site-packages\\urllib3\\connectionpool.py:988: InsecureRequestWarning: Unverified HTTPS request is being made to host 'www.recompensas.pe'. Adding certificate verification is strongly advised. See: https://urllib3.readthedocs.io/en/latest/advanced-usage.html#ssl-warnings\n",
      "  InsecureRequestWarning,\n",
      "C:\\Users\\Inspira\\.conda\\envs\\scraping\\lib\\site-packages\\urllib3\\connectionpool.py:988: InsecureRequestWarning: Unverified HTTPS request is being made to host 'www.recompensas.pe'. Adding certificate verification is strongly advised. See: https://urllib3.readthedocs.io/en/latest/advanced-usage.html#ssl-warnings\n",
      "  InsecureRequestWarning,\n"
     ]
    },
    {
     "name": "stdout",
     "output_type": "stream",
     "text": [
      "126\n",
      "127\n"
     ]
    },
    {
     "name": "stderr",
     "output_type": "stream",
     "text": [
      "C:\\Users\\Inspira\\.conda\\envs\\scraping\\lib\\site-packages\\urllib3\\connectionpool.py:988: InsecureRequestWarning: Unverified HTTPS request is being made to host 'www.recompensas.pe'. Adding certificate verification is strongly advised. See: https://urllib3.readthedocs.io/en/latest/advanced-usage.html#ssl-warnings\n",
      "  InsecureRequestWarning,\n",
      "C:\\Users\\Inspira\\.conda\\envs\\scraping\\lib\\site-packages\\urllib3\\connectionpool.py:988: InsecureRequestWarning: Unverified HTTPS request is being made to host 'www.recompensas.pe'. Adding certificate verification is strongly advised. See: https://urllib3.readthedocs.io/en/latest/advanced-usage.html#ssl-warnings\n",
      "  InsecureRequestWarning,\n"
     ]
    },
    {
     "name": "stdout",
     "output_type": "stream",
     "text": [
      "128\n",
      "129\n",
      "130\n"
     ]
    },
    {
     "name": "stderr",
     "output_type": "stream",
     "text": [
      "C:\\Users\\Inspira\\.conda\\envs\\scraping\\lib\\site-packages\\urllib3\\connectionpool.py:988: InsecureRequestWarning: Unverified HTTPS request is being made to host 'www.recompensas.pe'. Adding certificate verification is strongly advised. See: https://urllib3.readthedocs.io/en/latest/advanced-usage.html#ssl-warnings\n",
      "  InsecureRequestWarning,\n",
      "C:\\Users\\Inspira\\.conda\\envs\\scraping\\lib\\site-packages\\urllib3\\connectionpool.py:988: InsecureRequestWarning: Unverified HTTPS request is being made to host 'www.recompensas.pe'. Adding certificate verification is strongly advised. See: https://urllib3.readthedocs.io/en/latest/advanced-usage.html#ssl-warnings\n",
      "  InsecureRequestWarning,\n"
     ]
    },
    {
     "name": "stdout",
     "output_type": "stream",
     "text": [
      "131\n"
     ]
    },
    {
     "name": "stderr",
     "output_type": "stream",
     "text": [
      "C:\\Users\\Inspira\\.conda\\envs\\scraping\\lib\\site-packages\\urllib3\\connectionpool.py:988: InsecureRequestWarning: Unverified HTTPS request is being made to host 'www.recompensas.pe'. Adding certificate verification is strongly advised. See: https://urllib3.readthedocs.io/en/latest/advanced-usage.html#ssl-warnings\n",
      "  InsecureRequestWarning,\n"
     ]
    },
    {
     "name": "stdout",
     "output_type": "stream",
     "text": [
      "132\n"
     ]
    },
    {
     "name": "stderr",
     "output_type": "stream",
     "text": [
      "C:\\Users\\Inspira\\.conda\\envs\\scraping\\lib\\site-packages\\urllib3\\connectionpool.py:988: InsecureRequestWarning: Unverified HTTPS request is being made to host 'www.recompensas.pe'. Adding certificate verification is strongly advised. See: https://urllib3.readthedocs.io/en/latest/advanced-usage.html#ssl-warnings\n",
      "  InsecureRequestWarning,\n"
     ]
    },
    {
     "name": "stdout",
     "output_type": "stream",
     "text": [
      "133\n",
      "134\n"
     ]
    },
    {
     "name": "stderr",
     "output_type": "stream",
     "text": [
      "C:\\Users\\Inspira\\.conda\\envs\\scraping\\lib\\site-packages\\urllib3\\connectionpool.py:988: InsecureRequestWarning: Unverified HTTPS request is being made to host 'www.recompensas.pe'. Adding certificate verification is strongly advised. See: https://urllib3.readthedocs.io/en/latest/advanced-usage.html#ssl-warnings\n",
      "  InsecureRequestWarning,\n",
      "C:\\Users\\Inspira\\.conda\\envs\\scraping\\lib\\site-packages\\urllib3\\connectionpool.py:988: InsecureRequestWarning: Unverified HTTPS request is being made to host 'www.recompensas.pe'. Adding certificate verification is strongly advised. See: https://urllib3.readthedocs.io/en/latest/advanced-usage.html#ssl-warnings\n",
      "  InsecureRequestWarning,\n"
     ]
    },
    {
     "name": "stdout",
     "output_type": "stream",
     "text": [
      "135\n",
      "136"
     ]
    },
    {
     "name": "stderr",
     "output_type": "stream",
     "text": [
      "C:\\Users\\Inspira\\.conda\\envs\\scraping\\lib\\site-packages\\urllib3\\connectionpool.py:988: InsecureRequestWarning: Unverified HTTPS request is being made to host 'www.recompensas.pe'. Adding certificate verification is strongly advised. See: https://urllib3.readthedocs.io/en/latest/advanced-usage.html#ssl-warnings\n",
      "  InsecureRequestWarning,\n",
      "C:\\Users\\Inspira\\.conda\\envs\\scraping\\lib\\site-packages\\urllib3\\connectionpool.py:988: InsecureRequestWarning: Unverified HTTPS request is being made to host 'www.recompensas.pe'. Adding certificate verification is strongly advised. See: https://urllib3.readthedocs.io/en/latest/advanced-usage.html#ssl-warnings\n",
      "  InsecureRequestWarning,\n"
     ]
    },
    {
     "name": "stdout",
     "output_type": "stream",
     "text": [
      "\n",
      "137\n"
     ]
    },
    {
     "name": "stderr",
     "output_type": "stream",
     "text": [
      "C:\\Users\\Inspira\\.conda\\envs\\scraping\\lib\\site-packages\\urllib3\\connectionpool.py:988: InsecureRequestWarning: Unverified HTTPS request is being made to host 'www.recompensas.pe'. Adding certificate verification is strongly advised. See: https://urllib3.readthedocs.io/en/latest/advanced-usage.html#ssl-warnings\n",
      "  InsecureRequestWarning,\n",
      "C:\\Users\\Inspira\\.conda\\envs\\scraping\\lib\\site-packages\\urllib3\\connectionpool.py:988: InsecureRequestWarning: Unverified HTTPS request is being made to host 'www.recompensas.pe'. Adding certificate verification is strongly advised. See: https://urllib3.readthedocs.io/en/latest/advanced-usage.html#ssl-warnings\n",
      "  InsecureRequestWarning,\n"
     ]
    },
    {
     "name": "stdout",
     "output_type": "stream",
     "text": [
      "138\n",
      "139\n"
     ]
    },
    {
     "name": "stderr",
     "output_type": "stream",
     "text": [
      "C:\\Users\\Inspira\\.conda\\envs\\scraping\\lib\\site-packages\\urllib3\\connectionpool.py:988: InsecureRequestWarning: Unverified HTTPS request is being made to host 'www.recompensas.pe'. Adding certificate verification is strongly advised. See: https://urllib3.readthedocs.io/en/latest/advanced-usage.html#ssl-warnings\n",
      "  InsecureRequestWarning,\n",
      "C:\\Users\\Inspira\\.conda\\envs\\scraping\\lib\\site-packages\\urllib3\\connectionpool.py:988: InsecureRequestWarning: Unverified HTTPS request is being made to host 'www.recompensas.pe'. Adding certificate verification is strongly advised. See: https://urllib3.readthedocs.io/en/latest/advanced-usage.html#ssl-warnings\n",
      "  InsecureRequestWarning,\n"
     ]
    },
    {
     "name": "stdout",
     "output_type": "stream",
     "text": [
      "140\n",
      "141\n"
     ]
    }
   ],
   "source": [
    "for i in range(105,1000):\n",
    "    print(i)\n",
    "    url = ('https://www.recompensas.pe/profugo/{}').format(i)\n",
    "    r = requests.get(url,headers={\"User-Agent\": \"Chrome/50.0.2661.94\"}, verify=False)\n",
    "    html = r.content\n",
    "    soup = BeautifulSoup(html,\"html.parser\")\n",
    "    ficha_persona = soup.find_all('div',class_ = \"row\")\n",
    "    for elemento in ficha_persona:\n",
    "        imagen_producto = elemento.find('img').get('src')\n",
    "        imagen_producto = imagen_producto[22:]\n",
    "        nombre_producto = elemento.find('h1').getText()\n",
    "        nombreImagen = nombre_producto + '.png'\n",
    "        imagen_producto = bytes(imagen_producto, 'utf-8')\n",
    "        im = Image.open(BytesIO(base64.b64decode(imagen_producto)))\n",
    "        im.save('imagenes_nuevas/'+nombreImagen, 'PNG')\n",
    "        x = nombre_producto.split()\n",
    "        df = df.append({'Nombre_p' : x[0],'nombre_s':'-', 'Apellido_p': x[1], 'Apellido_m':'-','Nombre_com':nombre_producto} \n",
    "                       , ignore_index=True)"
   ]
  },
  {
   "cell_type": "code",
   "execution_count": 172,
   "metadata": {},
   "outputs": [
    {
     "data": {
      "text/plain": [
       "(491, 5)"
      ]
     },
     "execution_count": 172,
     "metadata": {},
     "output_type": "execute_result"
    }
   ],
   "source": [
    "df.shape"
   ]
  },
  {
   "cell_type": "code",
   "execution_count": 173,
   "metadata": {},
   "outputs": [],
   "source": [
    "df.to_csv('lista.csv')"
   ]
  },
  {
   "cell_type": "code",
   "execution_count": 181,
   "metadata": {},
   "outputs": [
    {
     "data": {
      "text/html": [
       "<div>\n",
       "<style scoped>\n",
       "    .dataframe tbody tr th:only-of-type {\n",
       "        vertical-align: middle;\n",
       "    }\n",
       "\n",
       "    .dataframe tbody tr th {\n",
       "        vertical-align: top;\n",
       "    }\n",
       "\n",
       "    .dataframe thead th {\n",
       "        text-align: right;\n",
       "    }\n",
       "</style>\n",
       "<table border=\"1\" class=\"dataframe\">\n",
       "  <thead>\n",
       "    <tr style=\"text-align: right;\">\n",
       "      <th></th>\n",
       "      <th>Apellido_m</th>\n",
       "      <th>Apellido_p</th>\n",
       "      <th>Nombre_com</th>\n",
       "      <th>Nombre_p</th>\n",
       "      <th>nombre_s</th>\n",
       "      <th>dni</th>\n",
       "    </tr>\n",
       "  </thead>\n",
       "  <tbody>\n",
       "    <tr>\n",
       "      <th>0</th>\n",
       "      <td>-</td>\n",
       "      <td>FACHO</td>\n",
       "      <td>CARRANZA FACHO</td>\n",
       "      <td>CARRANZA</td>\n",
       "      <td>-</td>\n",
       "      <td>10000416</td>\n",
       "    </tr>\n",
       "    <tr>\n",
       "      <th>1</th>\n",
       "      <td>-</td>\n",
       "      <td>PURIZAGA</td>\n",
       "      <td>CARRASCO PURIZAGA</td>\n",
       "      <td>CARRASCO</td>\n",
       "      <td>-</td>\n",
       "      <td>10000417</td>\n",
       "    </tr>\n",
       "    <tr>\n",
       "      <th>2</th>\n",
       "      <td>-</td>\n",
       "      <td>ALVAREZ</td>\n",
       "      <td>CASTAÑEDA ALVAREZ</td>\n",
       "      <td>CASTAÑEDA</td>\n",
       "      <td>-</td>\n",
       "      <td>10000418</td>\n",
       "    </tr>\n",
       "    <tr>\n",
       "      <th>3</th>\n",
       "      <td>-</td>\n",
       "      <td>GARAY</td>\n",
       "      <td>CASTILLO GARAY</td>\n",
       "      <td>CASTILLO</td>\n",
       "      <td>-</td>\n",
       "      <td>10000419</td>\n",
       "    </tr>\n",
       "    <tr>\n",
       "      <th>4</th>\n",
       "      <td>-</td>\n",
       "      <td>MELENDEZ</td>\n",
       "      <td>CASTILLO MELENDEZ</td>\n",
       "      <td>CASTILLO</td>\n",
       "      <td>-</td>\n",
       "      <td>10000420</td>\n",
       "    </tr>\n",
       "    <tr>\n",
       "      <th>...</th>\n",
       "      <td>...</td>\n",
       "      <td>...</td>\n",
       "      <td>...</td>\n",
       "      <td>...</td>\n",
       "      <td>...</td>\n",
       "      <td>...</td>\n",
       "    </tr>\n",
       "    <tr>\n",
       "      <th>486</th>\n",
       "      <td>-</td>\n",
       "      <td>ZUÑIGA</td>\n",
       "      <td>NOBLECILLA ZUÑIGA</td>\n",
       "      <td>NOBLECILLA</td>\n",
       "      <td>-</td>\n",
       "      <td>10000902</td>\n",
       "    </tr>\n",
       "    <tr>\n",
       "      <th>487</th>\n",
       "      <td>-</td>\n",
       "      <td>ZAPATER</td>\n",
       "      <td>VELARDE ZAPATER</td>\n",
       "      <td>VELARDE</td>\n",
       "      <td>-</td>\n",
       "      <td>10000903</td>\n",
       "    </tr>\n",
       "    <tr>\n",
       "      <th>488</th>\n",
       "      <td>-</td>\n",
       "      <td>ASQUI</td>\n",
       "      <td>CAYO ASQUI</td>\n",
       "      <td>CAYO</td>\n",
       "      <td>-</td>\n",
       "      <td>10000904</td>\n",
       "    </tr>\n",
       "    <tr>\n",
       "      <th>489</th>\n",
       "      <td>-</td>\n",
       "      <td>PAREDES</td>\n",
       "      <td>ERNESTO PAREDES</td>\n",
       "      <td>ERNESTO</td>\n",
       "      <td>-</td>\n",
       "      <td>10000905</td>\n",
       "    </tr>\n",
       "    <tr>\n",
       "      <th>490</th>\n",
       "      <td>-</td>\n",
       "      <td>VILLALON</td>\n",
       "      <td>SAENZ VILLALON</td>\n",
       "      <td>SAENZ</td>\n",
       "      <td>-</td>\n",
       "      <td>10000906</td>\n",
       "    </tr>\n",
       "  </tbody>\n",
       "</table>\n",
       "<p>491 rows × 6 columns</p>\n",
       "</div>"
      ],
      "text/plain": [
       "    Apellido_m Apellido_p         Nombre_com    Nombre_p nombre_s       dni\n",
       "0            -      FACHO     CARRANZA FACHO    CARRANZA        -  10000416\n",
       "1            -   PURIZAGA  CARRASCO PURIZAGA    CARRASCO        -  10000417\n",
       "2            -    ALVAREZ  CASTAÑEDA ALVAREZ   CASTAÑEDA        -  10000418\n",
       "3            -      GARAY     CASTILLO GARAY    CASTILLO        -  10000419\n",
       "4            -   MELENDEZ  CASTILLO MELENDEZ    CASTILLO        -  10000420\n",
       "..         ...        ...                ...         ...      ...       ...\n",
       "486          -     ZUÑIGA  NOBLECILLA ZUÑIGA  NOBLECILLA        -  10000902\n",
       "487          -    ZAPATER    VELARDE ZAPATER     VELARDE        -  10000903\n",
       "488          -      ASQUI         CAYO ASQUI        CAYO        -  10000904\n",
       "489          -    PAREDES    ERNESTO PAREDES     ERNESTO        -  10000905\n",
       "490          -   VILLALON     SAENZ VILLALON       SAENZ        -  10000906\n",
       "\n",
       "[491 rows x 6 columns]"
      ]
     },
     "execution_count": 181,
     "metadata": {},
     "output_type": "execute_result"
    }
   ],
   "source": [
    "df"
   ]
  },
  {
   "cell_type": "code",
   "execution_count": 175,
   "metadata": {},
   "outputs": [],
   "source": [
    "numero = range(10000416,10000907)"
   ]
  },
  {
   "cell_type": "code",
   "execution_count": 176,
   "metadata": {},
   "outputs": [
    {
     "data": {
      "text/plain": [
       "491"
      ]
     },
     "execution_count": 176,
     "metadata": {},
     "output_type": "execute_result"
    }
   ],
   "source": [
    "len(numero)"
   ]
  },
  {
   "cell_type": "code",
   "execution_count": 177,
   "metadata": {},
   "outputs": [],
   "source": [
    "df1=df"
   ]
  },
  {
   "cell_type": "code",
   "execution_count": 178,
   "metadata": {},
   "outputs": [],
   "source": [
    "df1['dni']=numero"
   ]
  },
  {
   "cell_type": "code",
   "execution_count": 179,
   "metadata": {},
   "outputs": [
    {
     "data": {
      "text/html": [
       "<div>\n",
       "<style scoped>\n",
       "    .dataframe tbody tr th:only-of-type {\n",
       "        vertical-align: middle;\n",
       "    }\n",
       "\n",
       "    .dataframe tbody tr th {\n",
       "        vertical-align: top;\n",
       "    }\n",
       "\n",
       "    .dataframe thead th {\n",
       "        text-align: right;\n",
       "    }\n",
       "</style>\n",
       "<table border=\"1\" class=\"dataframe\">\n",
       "  <thead>\n",
       "    <tr style=\"text-align: right;\">\n",
       "      <th></th>\n",
       "      <th>Apellido_m</th>\n",
       "      <th>Apellido_p</th>\n",
       "      <th>Nombre_com</th>\n",
       "      <th>Nombre_p</th>\n",
       "      <th>nombre_s</th>\n",
       "      <th>dni</th>\n",
       "    </tr>\n",
       "  </thead>\n",
       "  <tbody>\n",
       "    <tr>\n",
       "      <th>0</th>\n",
       "      <td>-</td>\n",
       "      <td>FACHO</td>\n",
       "      <td>CARRANZA FACHO</td>\n",
       "      <td>CARRANZA</td>\n",
       "      <td>-</td>\n",
       "      <td>10000416</td>\n",
       "    </tr>\n",
       "    <tr>\n",
       "      <th>1</th>\n",
       "      <td>-</td>\n",
       "      <td>PURIZAGA</td>\n",
       "      <td>CARRASCO PURIZAGA</td>\n",
       "      <td>CARRASCO</td>\n",
       "      <td>-</td>\n",
       "      <td>10000417</td>\n",
       "    </tr>\n",
       "    <tr>\n",
       "      <th>2</th>\n",
       "      <td>-</td>\n",
       "      <td>ALVAREZ</td>\n",
       "      <td>CASTAÑEDA ALVAREZ</td>\n",
       "      <td>CASTAÑEDA</td>\n",
       "      <td>-</td>\n",
       "      <td>10000418</td>\n",
       "    </tr>\n",
       "    <tr>\n",
       "      <th>3</th>\n",
       "      <td>-</td>\n",
       "      <td>GARAY</td>\n",
       "      <td>CASTILLO GARAY</td>\n",
       "      <td>CASTILLO</td>\n",
       "      <td>-</td>\n",
       "      <td>10000419</td>\n",
       "    </tr>\n",
       "    <tr>\n",
       "      <th>4</th>\n",
       "      <td>-</td>\n",
       "      <td>MELENDEZ</td>\n",
       "      <td>CASTILLO MELENDEZ</td>\n",
       "      <td>CASTILLO</td>\n",
       "      <td>-</td>\n",
       "      <td>10000420</td>\n",
       "    </tr>\n",
       "    <tr>\n",
       "      <th>...</th>\n",
       "      <td>...</td>\n",
       "      <td>...</td>\n",
       "      <td>...</td>\n",
       "      <td>...</td>\n",
       "      <td>...</td>\n",
       "      <td>...</td>\n",
       "    </tr>\n",
       "    <tr>\n",
       "      <th>486</th>\n",
       "      <td>-</td>\n",
       "      <td>ZUÑIGA</td>\n",
       "      <td>NOBLECILLA ZUÑIGA</td>\n",
       "      <td>NOBLECILLA</td>\n",
       "      <td>-</td>\n",
       "      <td>10000902</td>\n",
       "    </tr>\n",
       "    <tr>\n",
       "      <th>487</th>\n",
       "      <td>-</td>\n",
       "      <td>ZAPATER</td>\n",
       "      <td>VELARDE ZAPATER</td>\n",
       "      <td>VELARDE</td>\n",
       "      <td>-</td>\n",
       "      <td>10000903</td>\n",
       "    </tr>\n",
       "    <tr>\n",
       "      <th>488</th>\n",
       "      <td>-</td>\n",
       "      <td>ASQUI</td>\n",
       "      <td>CAYO ASQUI</td>\n",
       "      <td>CAYO</td>\n",
       "      <td>-</td>\n",
       "      <td>10000904</td>\n",
       "    </tr>\n",
       "    <tr>\n",
       "      <th>489</th>\n",
       "      <td>-</td>\n",
       "      <td>PAREDES</td>\n",
       "      <td>ERNESTO PAREDES</td>\n",
       "      <td>ERNESTO</td>\n",
       "      <td>-</td>\n",
       "      <td>10000905</td>\n",
       "    </tr>\n",
       "    <tr>\n",
       "      <th>490</th>\n",
       "      <td>-</td>\n",
       "      <td>VILLALON</td>\n",
       "      <td>SAENZ VILLALON</td>\n",
       "      <td>SAENZ</td>\n",
       "      <td>-</td>\n",
       "      <td>10000906</td>\n",
       "    </tr>\n",
       "  </tbody>\n",
       "</table>\n",
       "<p>491 rows × 6 columns</p>\n",
       "</div>"
      ],
      "text/plain": [
       "    Apellido_m Apellido_p         Nombre_com    Nombre_p nombre_s       dni\n",
       "0            -      FACHO     CARRANZA FACHO    CARRANZA        -  10000416\n",
       "1            -   PURIZAGA  CARRASCO PURIZAGA    CARRASCO        -  10000417\n",
       "2            -    ALVAREZ  CASTAÑEDA ALVAREZ   CASTAÑEDA        -  10000418\n",
       "3            -      GARAY     CASTILLO GARAY    CASTILLO        -  10000419\n",
       "4            -   MELENDEZ  CASTILLO MELENDEZ    CASTILLO        -  10000420\n",
       "..         ...        ...                ...         ...      ...       ...\n",
       "486          -     ZUÑIGA  NOBLECILLA ZUÑIGA  NOBLECILLA        -  10000902\n",
       "487          -    ZAPATER    VELARDE ZAPATER     VELARDE        -  10000903\n",
       "488          -      ASQUI         CAYO ASQUI        CAYO        -  10000904\n",
       "489          -    PAREDES    ERNESTO PAREDES     ERNESTO        -  10000905\n",
       "490          -   VILLALON     SAENZ VILLALON       SAENZ        -  10000906\n",
       "\n",
       "[491 rows x 6 columns]"
      ]
     },
     "execution_count": 179,
     "metadata": {},
     "output_type": "execute_result"
    }
   ],
   "source": [
    "df1"
   ]
  },
  {
   "cell_type": "code",
   "execution_count": 180,
   "metadata": {},
   "outputs": [
    {
     "data": {
      "text/html": [
       "<div>\n",
       "<style scoped>\n",
       "    .dataframe tbody tr th:only-of-type {\n",
       "        vertical-align: middle;\n",
       "    }\n",
       "\n",
       "    .dataframe tbody tr th {\n",
       "        vertical-align: top;\n",
       "    }\n",
       "\n",
       "    .dataframe thead th {\n",
       "        text-align: right;\n",
       "    }\n",
       "</style>\n",
       "<table border=\"1\" class=\"dataframe\">\n",
       "  <thead>\n",
       "    <tr style=\"text-align: right;\">\n",
       "      <th></th>\n",
       "      <th>Apellido_m</th>\n",
       "      <th>Apellido_p</th>\n",
       "      <th>Nombre_com</th>\n",
       "      <th>Nombre_p</th>\n",
       "      <th>nombre_s</th>\n",
       "      <th>dni</th>\n",
       "    </tr>\n",
       "  </thead>\n",
       "  <tbody>\n",
       "    <tr>\n",
       "      <th>0</th>\n",
       "      <td>-</td>\n",
       "      <td>FACHO</td>\n",
       "      <td>CARRANZA FACHO</td>\n",
       "      <td>CARRANZA</td>\n",
       "      <td>-</td>\n",
       "      <td>10000416</td>\n",
       "    </tr>\n",
       "    <tr>\n",
       "      <th>1</th>\n",
       "      <td>-</td>\n",
       "      <td>PURIZAGA</td>\n",
       "      <td>CARRASCO PURIZAGA</td>\n",
       "      <td>CARRASCO</td>\n",
       "      <td>-</td>\n",
       "      <td>10000417</td>\n",
       "    </tr>\n",
       "    <tr>\n",
       "      <th>2</th>\n",
       "      <td>-</td>\n",
       "      <td>ALVAREZ</td>\n",
       "      <td>CASTAÑEDA ALVAREZ</td>\n",
       "      <td>CASTAÑEDA</td>\n",
       "      <td>-</td>\n",
       "      <td>10000418</td>\n",
       "    </tr>\n",
       "    <tr>\n",
       "      <th>3</th>\n",
       "      <td>-</td>\n",
       "      <td>GARAY</td>\n",
       "      <td>CASTILLO GARAY</td>\n",
       "      <td>CASTILLO</td>\n",
       "      <td>-</td>\n",
       "      <td>10000419</td>\n",
       "    </tr>\n",
       "    <tr>\n",
       "      <th>4</th>\n",
       "      <td>-</td>\n",
       "      <td>MELENDEZ</td>\n",
       "      <td>CASTILLO MELENDEZ</td>\n",
       "      <td>CASTILLO</td>\n",
       "      <td>-</td>\n",
       "      <td>10000420</td>\n",
       "    </tr>\n",
       "    <tr>\n",
       "      <th>...</th>\n",
       "      <td>...</td>\n",
       "      <td>...</td>\n",
       "      <td>...</td>\n",
       "      <td>...</td>\n",
       "      <td>...</td>\n",
       "      <td>...</td>\n",
       "    </tr>\n",
       "    <tr>\n",
       "      <th>486</th>\n",
       "      <td>-</td>\n",
       "      <td>ZUÑIGA</td>\n",
       "      <td>NOBLECILLA ZUÑIGA</td>\n",
       "      <td>NOBLECILLA</td>\n",
       "      <td>-</td>\n",
       "      <td>10000902</td>\n",
       "    </tr>\n",
       "    <tr>\n",
       "      <th>487</th>\n",
       "      <td>-</td>\n",
       "      <td>ZAPATER</td>\n",
       "      <td>VELARDE ZAPATER</td>\n",
       "      <td>VELARDE</td>\n",
       "      <td>-</td>\n",
       "      <td>10000903</td>\n",
       "    </tr>\n",
       "    <tr>\n",
       "      <th>488</th>\n",
       "      <td>-</td>\n",
       "      <td>ASQUI</td>\n",
       "      <td>CAYO ASQUI</td>\n",
       "      <td>CAYO</td>\n",
       "      <td>-</td>\n",
       "      <td>10000904</td>\n",
       "    </tr>\n",
       "    <tr>\n",
       "      <th>489</th>\n",
       "      <td>-</td>\n",
       "      <td>PAREDES</td>\n",
       "      <td>ERNESTO PAREDES</td>\n",
       "      <td>ERNESTO</td>\n",
       "      <td>-</td>\n",
       "      <td>10000905</td>\n",
       "    </tr>\n",
       "    <tr>\n",
       "      <th>490</th>\n",
       "      <td>-</td>\n",
       "      <td>VILLALON</td>\n",
       "      <td>SAENZ VILLALON</td>\n",
       "      <td>SAENZ</td>\n",
       "      <td>-</td>\n",
       "      <td>10000906</td>\n",
       "    </tr>\n",
       "  </tbody>\n",
       "</table>\n",
       "<p>491 rows × 6 columns</p>\n",
       "</div>"
      ],
      "text/plain": [
       "    Apellido_m Apellido_p         Nombre_com    Nombre_p nombre_s       dni\n",
       "0            -      FACHO     CARRANZA FACHO    CARRANZA        -  10000416\n",
       "1            -   PURIZAGA  CARRASCO PURIZAGA    CARRASCO        -  10000417\n",
       "2            -    ALVAREZ  CASTAÑEDA ALVAREZ   CASTAÑEDA        -  10000418\n",
       "3            -      GARAY     CASTILLO GARAY    CASTILLO        -  10000419\n",
       "4            -   MELENDEZ  CASTILLO MELENDEZ    CASTILLO        -  10000420\n",
       "..         ...        ...                ...         ...      ...       ...\n",
       "486          -     ZUÑIGA  NOBLECILLA ZUÑIGA  NOBLECILLA        -  10000902\n",
       "487          -    ZAPATER    VELARDE ZAPATER     VELARDE        -  10000903\n",
       "488          -      ASQUI         CAYO ASQUI        CAYO        -  10000904\n",
       "489          -    PAREDES    ERNESTO PAREDES     ERNESTO        -  10000905\n",
       "490          -   VILLALON     SAENZ VILLALON       SAENZ        -  10000906\n",
       "\n",
       "[491 rows x 6 columns]"
      ]
     },
     "execution_count": 180,
     "metadata": {},
     "output_type": "execute_result"
    }
   ],
   "source": [
    "df"
   ]
  },
  {
   "cell_type": "code",
   "execution_count": 182,
   "metadata": {},
   "outputs": [],
   "source": [
    "df.to_csv('lista1.csv')"
   ]
  },
  {
   "cell_type": "code",
   "execution_count": 183,
   "metadata": {},
   "outputs": [],
   "source": [
    "data=pd.read_csv('lista1.csv')"
   ]
  },
  {
   "cell_type": "code",
   "execution_count": 184,
   "metadata": {},
   "outputs": [
    {
     "data": {
      "text/html": [
       "<div>\n",
       "<style scoped>\n",
       "    .dataframe tbody tr th:only-of-type {\n",
       "        vertical-align: middle;\n",
       "    }\n",
       "\n",
       "    .dataframe tbody tr th {\n",
       "        vertical-align: top;\n",
       "    }\n",
       "\n",
       "    .dataframe thead th {\n",
       "        text-align: right;\n",
       "    }\n",
       "</style>\n",
       "<table border=\"1\" class=\"dataframe\">\n",
       "  <thead>\n",
       "    <tr style=\"text-align: right;\">\n",
       "      <th></th>\n",
       "      <th>Unnamed: 0</th>\n",
       "      <th>Apellido_m</th>\n",
       "      <th>Apellido_p</th>\n",
       "      <th>Nombre_com</th>\n",
       "      <th>Nombre_p</th>\n",
       "      <th>nombre_s</th>\n",
       "      <th>dni</th>\n",
       "    </tr>\n",
       "  </thead>\n",
       "  <tbody>\n",
       "    <tr>\n",
       "      <th>0</th>\n",
       "      <td>0</td>\n",
       "      <td>-</td>\n",
       "      <td>FACHO</td>\n",
       "      <td>CARRANZA FACHO</td>\n",
       "      <td>CARRANZA</td>\n",
       "      <td>-</td>\n",
       "      <td>10000416</td>\n",
       "    </tr>\n",
       "    <tr>\n",
       "      <th>1</th>\n",
       "      <td>1</td>\n",
       "      <td>-</td>\n",
       "      <td>PURIZAGA</td>\n",
       "      <td>CARRASCO PURIZAGA</td>\n",
       "      <td>CARRASCO</td>\n",
       "      <td>-</td>\n",
       "      <td>10000417</td>\n",
       "    </tr>\n",
       "    <tr>\n",
       "      <th>2</th>\n",
       "      <td>2</td>\n",
       "      <td>-</td>\n",
       "      <td>ALVAREZ</td>\n",
       "      <td>CASTAÑEDA ALVAREZ</td>\n",
       "      <td>CASTAÑEDA</td>\n",
       "      <td>-</td>\n",
       "      <td>10000418</td>\n",
       "    </tr>\n",
       "    <tr>\n",
       "      <th>3</th>\n",
       "      <td>3</td>\n",
       "      <td>-</td>\n",
       "      <td>GARAY</td>\n",
       "      <td>CASTILLO GARAY</td>\n",
       "      <td>CASTILLO</td>\n",
       "      <td>-</td>\n",
       "      <td>10000419</td>\n",
       "    </tr>\n",
       "    <tr>\n",
       "      <th>4</th>\n",
       "      <td>4</td>\n",
       "      <td>-</td>\n",
       "      <td>MELENDEZ</td>\n",
       "      <td>CASTILLO MELENDEZ</td>\n",
       "      <td>CASTILLO</td>\n",
       "      <td>-</td>\n",
       "      <td>10000420</td>\n",
       "    </tr>\n",
       "    <tr>\n",
       "      <th>...</th>\n",
       "      <td>...</td>\n",
       "      <td>...</td>\n",
       "      <td>...</td>\n",
       "      <td>...</td>\n",
       "      <td>...</td>\n",
       "      <td>...</td>\n",
       "      <td>...</td>\n",
       "    </tr>\n",
       "    <tr>\n",
       "      <th>486</th>\n",
       "      <td>486</td>\n",
       "      <td>-</td>\n",
       "      <td>ZUÑIGA</td>\n",
       "      <td>NOBLECILLA ZUÑIGA</td>\n",
       "      <td>NOBLECILLA</td>\n",
       "      <td>-</td>\n",
       "      <td>10000902</td>\n",
       "    </tr>\n",
       "    <tr>\n",
       "      <th>487</th>\n",
       "      <td>487</td>\n",
       "      <td>-</td>\n",
       "      <td>ZAPATER</td>\n",
       "      <td>VELARDE ZAPATER</td>\n",
       "      <td>VELARDE</td>\n",
       "      <td>-</td>\n",
       "      <td>10000903</td>\n",
       "    </tr>\n",
       "    <tr>\n",
       "      <th>488</th>\n",
       "      <td>488</td>\n",
       "      <td>-</td>\n",
       "      <td>ASQUI</td>\n",
       "      <td>CAYO ASQUI</td>\n",
       "      <td>CAYO</td>\n",
       "      <td>-</td>\n",
       "      <td>10000904</td>\n",
       "    </tr>\n",
       "    <tr>\n",
       "      <th>489</th>\n",
       "      <td>489</td>\n",
       "      <td>-</td>\n",
       "      <td>PAREDES</td>\n",
       "      <td>ERNESTO PAREDES</td>\n",
       "      <td>ERNESTO</td>\n",
       "      <td>-</td>\n",
       "      <td>10000905</td>\n",
       "    </tr>\n",
       "    <tr>\n",
       "      <th>490</th>\n",
       "      <td>490</td>\n",
       "      <td>-</td>\n",
       "      <td>VILLALON</td>\n",
       "      <td>SAENZ VILLALON</td>\n",
       "      <td>SAENZ</td>\n",
       "      <td>-</td>\n",
       "      <td>10000906</td>\n",
       "    </tr>\n",
       "  </tbody>\n",
       "</table>\n",
       "<p>491 rows × 7 columns</p>\n",
       "</div>"
      ],
      "text/plain": [
       "     Unnamed: 0 Apellido_m Apellido_p         Nombre_com    Nombre_p nombre_s  \\\n",
       "0             0          -      FACHO     CARRANZA FACHO    CARRANZA        -   \n",
       "1             1          -   PURIZAGA  CARRASCO PURIZAGA    CARRASCO        -   \n",
       "2             2          -    ALVAREZ  CASTAÑEDA ALVAREZ   CASTAÑEDA        -   \n",
       "3             3          -      GARAY     CASTILLO GARAY    CASTILLO        -   \n",
       "4             4          -   MELENDEZ  CASTILLO MELENDEZ    CASTILLO        -   \n",
       "..          ...        ...        ...                ...         ...      ...   \n",
       "486         486          -     ZUÑIGA  NOBLECILLA ZUÑIGA  NOBLECILLA        -   \n",
       "487         487          -    ZAPATER    VELARDE ZAPATER     VELARDE        -   \n",
       "488         488          -      ASQUI         CAYO ASQUI        CAYO        -   \n",
       "489         489          -    PAREDES    ERNESTO PAREDES     ERNESTO        -   \n",
       "490         490          -   VILLALON     SAENZ VILLALON       SAENZ        -   \n",
       "\n",
       "          dni  \n",
       "0    10000416  \n",
       "1    10000417  \n",
       "2    10000418  \n",
       "3    10000419  \n",
       "4    10000420  \n",
       "..        ...  \n",
       "486  10000902  \n",
       "487  10000903  \n",
       "488  10000904  \n",
       "489  10000905  \n",
       "490  10000906  \n",
       "\n",
       "[491 rows x 7 columns]"
      ]
     },
     "execution_count": 184,
     "metadata": {},
     "output_type": "execute_result"
    }
   ],
   "source": [
    "data"
   ]
  },
  {
   "cell_type": "code",
   "execution_count": null,
   "metadata": {},
   "outputs": [],
   "source": []
  }
 ],
 "metadata": {
  "kernelspec": {
   "display_name": "Python 3",
   "language": "python",
   "name": "python3"
  },
  "language_info": {
   "codemirror_mode": {
    "name": "ipython",
    "version": 3
   },
   "file_extension": ".py",
   "mimetype": "text/x-python",
   "name": "python",
   "nbconvert_exporter": "python",
   "pygments_lexer": "ipython3",
   "version": "3.6.10"
  }
 },
 "nbformat": 4,
 "nbformat_minor": 4
}
